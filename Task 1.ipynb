{
 "cells": [
  {
   "cell_type": "code",
   "execution_count": null,
   "id": "f2d659b7",
   "metadata": {},
   "outputs": [
    {
     "name": "stdout",
     "output_type": "stream",
     "text": [
      "I'm a car!\n",
      "What should I do? [A]ccelerate, [B]rake, show [O]dometer, or show average [S]peed?20\n",
      "I don't know how to do that\n",
      "What should I do? [A]ccelerate, [B]rake, show [O]dometer, or show average [S]peed?A\n",
      "Accelerating...\n",
      "What should I do? [A]ccelerate, [B]rake, show [O]dometer, or show average [S]peed?O\n",
      "The car has driven 5 kilometers\n"
     ]
    }
   ],
   "source": [
    "class Car:\n",
    "\n",
    "    def __init__(self, speed=0):\n",
    "        self.speed = speed\n",
    "        self.odometer = 0\n",
    "        self.time = 0\n",
    "\n",
    "    def accelerate(self):\n",
    "        self.speed += 5\n",
    "\n",
    "    def brake(self):\n",
    "        self.speed -= 5\n",
    "\n",
    "    def step(self):\n",
    "        self.odometer += self.speed\n",
    "        self.time += 1\n",
    "\n",
    "    def average_speed(self):\n",
    "        return self.odometer / self.time\n",
    "\n",
    "\n",
    "if __name__ == '__main__':\n",
    "\n",
    "    my_car = Car()\n",
    "    print(\"I'm a car!\")\n",
    "    while True:\n",
    "        action = input(\"What should I do? [A]ccelerate, [B]rake, \"\n",
    "                        \"show [O]dometer, or show average [S]peed?\").upper()\n",
    "        if action not in \"ABOS\" or len(action) != 1:\n",
    "            print(\"I don't know how to do that\")\n",
    "            continue\n",
    "        if action == 'A':\n",
    "            my_car.accelerate()\n",
    "            print(\"Accelerating...\")\n",
    "        elif action == 'B':\n",
    "            my_car.brake()\n",
    "            print(\"Braking...\")\n",
    "        elif action == 'O':\n",
    "            print(\"The car has driven {} kilometers\".format(my_car.odometer))\n",
    "        elif action == 'S':\n",
    "            print(\"The car's average speed was {} kph\".format(my_car.average_speed()))\n",
    "        my_car.step()"
   ]
  },
  {
   "cell_type": "code",
   "execution_count": null,
   "id": "ee5e4614",
   "metadata": {},
   "outputs": [],
   "source": []
  }
 ],
 "metadata": {
  "kernelspec": {
   "display_name": "Python 3 (ipykernel)",
   "language": "python",
   "name": "python3"
  },
  "language_info": {
   "codemirror_mode": {
    "name": "ipython",
    "version": 3
   },
   "file_extension": ".py",
   "mimetype": "text/x-python",
   "name": "python",
   "nbconvert_exporter": "python",
   "pygments_lexer": "ipython3",
   "version": "3.11.5"
  }
 },
 "nbformat": 4,
 "nbformat_minor": 5
}
